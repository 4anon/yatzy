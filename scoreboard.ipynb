{
 "cells": [
  {
   "cell_type": "code",
   "execution_count": 14,
   "id": "8d5e8086-96ab-43ed-b504-85c7e754a374",
   "metadata": {},
   "outputs": [
    {
     "name": "stdout",
     "output_type": "stream",
     "text": [
      " ('Number of unique integers:', 65, 'Different integers:', '[2, 3, 4, 6, 7, 8, 9, 10, 14, 15, 16, 18, 20, 21, 24, 25, 26, 27, 29, 32, 35, 36, 37, 38, 39, 40, 41, 43, 45, 46, 47, 51, 52, 53, 54, 56, 57, 58, 60, 62, 64, 65, 67, 68, 69, 70, 71, 74, 75, 77, 80, 81, 83, 84, 87, 90, 91, 92, 93, 94, 95, 96, 97, 98, 100]')\n"
     ]
    }
   ],
   "source": [
    "import random\n",
    "def unique(lst):\n",
    "\n",
    "\n",
    " set1=sorted(set(lst))\n",
    " return 'Number of unique integers:',len(set1), 'Different integers:',str(set1)\n",
    "    \n",
    "\n",
    "def main():\n",
    "    lst=list()\n",
    "    x=0\n",
    "    i=0\n",
    "    for i in range(100):\n",
    "     x=random.randint(1,100)\n",
    "     lst.append(x)\n",
    "\n",
    "    print('',unique(lst))\n",
    "main()\n"
   ]
  },
  {
   "cell_type": "code",
   "execution_count": null,
   "id": "376c4641-ac87-4d61-89a9-39fb0e4c1b87",
   "metadata": {},
   "outputs": [],
   "source": []
  }
 ],
 "metadata": {
  "kernelspec": {
   "display_name": "Python 3 (ipykernel)",
   "language": "python",
   "name": "python3"
  },
  "language_info": {
   "codemirror_mode": {
    "name": "ipython",
    "version": 3
   },
   "file_extension": ".py",
   "mimetype": "text/x-python",
   "name": "python",
   "nbconvert_exporter": "python",
   "pygments_lexer": "ipython3",
   "version": "3.11.9"
  }
 },
 "nbformat": 4,
 "nbformat_minor": 5
}
